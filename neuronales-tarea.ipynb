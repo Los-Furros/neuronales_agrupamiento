{
 "cells": [
  {
   "cell_type": "code",
   "execution_count": 3,
   "id": "e9b98a52",
   "metadata": {},
   "outputs": [
    {
     "name": "stdout",
     "output_type": "stream",
     "text": [
      "Requirement already satisfied: numpy==1.22.3 in /home/jorjo/.local/lib/python3.8/site-packages (from -r requirements.txt (line 1)) (1.22.3)\n",
      "Requirement already satisfied: pandas==1.4.2 in /home/jorjo/.local/lib/python3.8/site-packages (from -r requirements.txt (line 2)) (1.4.2)\n",
      "Requirement already satisfied: pytz>=2020.1 in /home/jorjo/.local/lib/python3.8/site-packages (from pandas==1.4.2->-r requirements.txt (line 2)) (2022.1)\n",
      "Requirement already satisfied: python-dateutil>=2.8.1 in /home/jorjo/.local/lib/python3.8/site-packages (from pandas==1.4.2->-r requirements.txt (line 2)) (2.8.2)\n",
      "Requirement already satisfied: six>=1.5 in /usr/lib/python3/dist-packages (from python-dateutil>=2.8.1->pandas==1.4.2->-r requirements.txt (line 2)) (1.14.0)\n",
      "Note: you may need to restart the kernel to use updated packages.\n"
     ]
    }
   ],
   "source": [
    "pip install -r requirements.txt"
   ]
  },
  {
   "cell_type": "code",
   "execution_count": null,
   "id": "a55e489c",
   "metadata": {},
   "outputs": [],
   "source": [
    "import pandas as pd\n",
    "import numpy as np"
   ]
  }
 ],
 "metadata": {
  "kernelspec": {
   "display_name": "Python 3 (ipykernel)",
   "language": "python",
   "name": "python3"
  },
  "language_info": {
   "codemirror_mode": {
    "name": "ipython",
    "version": 3
   },
   "file_extension": ".py",
   "mimetype": "text/x-python",
   "name": "python",
   "nbconvert_exporter": "python",
   "pygments_lexer": "ipython3",
   "version": "3.8.10"
  }
 },
 "nbformat": 4,
 "nbformat_minor": 5
}
